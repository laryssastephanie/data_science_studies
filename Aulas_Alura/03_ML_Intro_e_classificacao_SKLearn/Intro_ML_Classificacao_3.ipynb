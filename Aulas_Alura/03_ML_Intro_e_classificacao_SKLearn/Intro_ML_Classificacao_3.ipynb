{
 "cells": [
  {
   "cell_type": "code",
   "execution_count": 8,
   "metadata": {},
   "outputs": [
    {
     "data": {
      "text/html": [
       "<div>\n",
       "<style scoped>\n",
       "    .dataframe tbody tr th:only-of-type {\n",
       "        vertical-align: middle;\n",
       "    }\n",
       "\n",
       "    .dataframe tbody tr th {\n",
       "        vertical-align: top;\n",
       "    }\n",
       "\n",
       "    .dataframe thead th {\n",
       "        text-align: right;\n",
       "    }\n",
       "</style>\n",
       "<table border=\"1\" class=\"dataframe\">\n",
       "  <thead>\n",
       "    <tr style=\"text-align: right;\">\n",
       "      <th></th>\n",
       "      <th>unfinished</th>\n",
       "      <th>expected_hours</th>\n",
       "      <th>price</th>\n",
       "    </tr>\n",
       "  </thead>\n",
       "  <tbody>\n",
       "    <tr>\n",
       "      <th>0</th>\n",
       "      <td>1</td>\n",
       "      <td>26</td>\n",
       "      <td>192</td>\n",
       "    </tr>\n",
       "    <tr>\n",
       "      <th>1</th>\n",
       "      <td>1</td>\n",
       "      <td>88</td>\n",
       "      <td>9015</td>\n",
       "    </tr>\n",
       "    <tr>\n",
       "      <th>2</th>\n",
       "      <td>1</td>\n",
       "      <td>89</td>\n",
       "      <td>2577</td>\n",
       "    </tr>\n",
       "    <tr>\n",
       "      <th>3</th>\n",
       "      <td>1</td>\n",
       "      <td>42</td>\n",
       "      <td>275</td>\n",
       "    </tr>\n",
       "    <tr>\n",
       "      <th>4</th>\n",
       "      <td>1</td>\n",
       "      <td>39</td>\n",
       "      <td>170</td>\n",
       "    </tr>\n",
       "  </tbody>\n",
       "</table>\n",
       "</div>"
      ],
      "text/plain": [
       "   unfinished  expected_hours  price\n",
       "0           1              26    192\n",
       "1           1              88   9015\n",
       "2           1              89   2577\n",
       "3           1              42    275\n",
       "4           1              39    170"
      ]
     },
     "execution_count": 8,
     "metadata": {},
     "output_type": "execute_result"
    }
   ],
   "source": [
    "import pandas as pd\n",
    "import matplotlib.pyplot as plt \n",
    "\n",
    "uri = \"https://gist.githubusercontent.com/guilhermesilveira/1b7d5475863c15f484ac495bd70975cf/raw/16aff7a0aee67e7c100a2a48b676a2d2d142f646/projects.csv\"\n",
    "dados = pd.read_csv(uri)\n",
    "dados.head()"
   ]
  },
  {
   "cell_type": "code",
   "execution_count": 9,
   "metadata": {},
   "outputs": [],
   "source": [
    "a_renomear = {\n",
    "    'expected_hours':'horas_esperadas',\n",
    "    'price':'preco',\n",
    "    'unfinished': 'nao_finalizado'\n",
    "}\n",
    "\n",
    "dados = dados.rename(columns=a_renomear)"
   ]
  },
  {
   "cell_type": "code",
   "execution_count": 10,
   "metadata": {},
   "outputs": [
    {
     "data": {
      "text/html": [
       "<div>\n",
       "<style scoped>\n",
       "    .dataframe tbody tr th:only-of-type {\n",
       "        vertical-align: middle;\n",
       "    }\n",
       "\n",
       "    .dataframe tbody tr th {\n",
       "        vertical-align: top;\n",
       "    }\n",
       "\n",
       "    .dataframe thead th {\n",
       "        text-align: right;\n",
       "    }\n",
       "</style>\n",
       "<table border=\"1\" class=\"dataframe\">\n",
       "  <thead>\n",
       "    <tr style=\"text-align: right;\">\n",
       "      <th></th>\n",
       "      <th>nao_finalizado</th>\n",
       "      <th>horas_esperadas</th>\n",
       "      <th>preco</th>\n",
       "      <th>finalizado</th>\n",
       "    </tr>\n",
       "  </thead>\n",
       "  <tbody>\n",
       "    <tr>\n",
       "      <th>0</th>\n",
       "      <td>1</td>\n",
       "      <td>26</td>\n",
       "      <td>192</td>\n",
       "      <td>0</td>\n",
       "    </tr>\n",
       "    <tr>\n",
       "      <th>1</th>\n",
       "      <td>1</td>\n",
       "      <td>88</td>\n",
       "      <td>9015</td>\n",
       "      <td>0</td>\n",
       "    </tr>\n",
       "    <tr>\n",
       "      <th>2</th>\n",
       "      <td>1</td>\n",
       "      <td>89</td>\n",
       "      <td>2577</td>\n",
       "      <td>0</td>\n",
       "    </tr>\n",
       "    <tr>\n",
       "      <th>3</th>\n",
       "      <td>1</td>\n",
       "      <td>42</td>\n",
       "      <td>275</td>\n",
       "      <td>0</td>\n",
       "    </tr>\n",
       "    <tr>\n",
       "      <th>4</th>\n",
       "      <td>1</td>\n",
       "      <td>39</td>\n",
       "      <td>170</td>\n",
       "      <td>0</td>\n",
       "    </tr>\n",
       "  </tbody>\n",
       "</table>\n",
       "</div>"
      ],
      "text/plain": [
       "   nao_finalizado  horas_esperadas  preco  finalizado\n",
       "0               1               26    192           0\n",
       "1               1               88   9015           0\n",
       "2               1               89   2577           0\n",
       "3               1               42    275           0\n",
       "4               1               39    170           0"
      ]
     },
     "execution_count": 10,
     "metadata": {},
     "output_type": "execute_result"
    }
   ],
   "source": [
    "troca = {\n",
    "    0 : 1,\n",
    "    1 : 0\n",
    "}\n",
    "\n",
    "dados['finalizado'] = dados.nao_finalizado.map(troca)\n",
    "dados.head()"
   ]
  },
  {
   "cell_type": "code",
   "execution_count": null,
   "metadata": {},
   "outputs": [],
   "source": [
    "dados.tail()"
   ]
  },
  {
   "cell_type": "code",
   "execution_count": null,
   "metadata": {},
   "outputs": [],
   "source": [
    "import seaborn as sns\n",
    "\n",
    "sns.scatterplot(x=\"horas_esperadas\", y=\"preco\", data=dados)"
   ]
  },
  {
   "cell_type": "code",
   "execution_count": null,
   "metadata": {},
   "outputs": [],
   "source": [
    "sns.scatterplot(x=\"horas_esperadas\", y=\"preco\", hue=\"finalizado\", data=dados)"
   ]
  },
  {
   "cell_type": "code",
   "execution_count": null,
   "metadata": {},
   "outputs": [],
   "source": [
    "sns.relplot(x=\"horas_esperadas\", y=\"preco\", hue=\"finalizado\", col=\"finalizado\", data=dados)"
   ]
  },
  {
   "cell_type": "code",
   "execution_count": 11,
   "metadata": {},
   "outputs": [],
   "source": [
    "x = dados[['horas_esperadas', 'preco']]\n",
    "y = dados['finalizado']"
   ]
  },
  {
   "cell_type": "code",
   "execution_count": null,
   "metadata": {},
   "outputs": [],
   "source": [
    "from sklearn.model_selection import train_test_split\n",
    "from sklearn.svm import LinearSVC\n",
    "from sklearn.metrics import accuracy_score\n",
    "import numpy as np\n",
    "\n",
    "SEED = 20\n",
    "np.random.seed(SEED)\n",
    "\n",
    "treino_x, teste_x, treino_y, teste_y = train_test_split(x, y, test_size=0.25,\n",
    "                                                        stratify=y)\n",
    "print(\"Treinaremos com %d elementos e testaremos com %d elementos\" % (len(treino_x), len(teste_x)))\n",
    "\n",
    "modelo = LinearSVC()\n",
    "modelo.fit(treino_x, treino_y)\n",
    "previsoes = modelo.predict(teste_x)\n",
    "\n",
    "acuracia = accuracy_score(teste_y, previsoes) * 100\n",
    "print(\"A acuracia foi %.2f%%\" % acuracia)"
   ]
  },
  {
   "cell_type": "code",
   "execution_count": null,
   "metadata": {},
   "outputs": [],
   "source": [
    "# E se todos os projetos fossem finalizados (1)? Seria melhor?\n",
    "# Criando a baseline\n",
    "\n",
    "previsoes_de_base = np.ones(540)\n",
    "\n",
    "acuracia = accuracy_score(teste_y, previsoes_de_base) * 100\n",
    "print(\"A acuracia do algoritmo de baseline foi %.2f%%\" % acuracia)"
   ]
  },
  {
   "cell_type": "code",
   "execution_count": null,
   "metadata": {},
   "outputs": [],
   "source": [
    "sns.scatterplot(x=\"horas_esperadas\", y=\"preco\", hue=teste_y, data=teste_x)"
   ]
  },
  {
   "cell_type": "code",
   "execution_count": null,
   "metadata": {},
   "outputs": [],
   "source": [
    "x_min = teste_x.horas_esperadas.min()\n",
    "x_max = teste_x.horas_esperadas.max()\n",
    "y_min = teste_x.preco.min()\n",
    "y_max = teste_x.preco.max()\n",
    "print(x_min, x_max, y_min, y_max)"
   ]
  },
  {
   "cell_type": "code",
   "execution_count": null,
   "metadata": {},
   "outputs": [],
   "source": [
    "pixels = 100\n",
    "eixo_x = np.arange(x_min, x_max, (x_max - x_min) / pixels)\n",
    "eixo_y = np.arange(y_min, y_max, (y_max - y_min) / pixels)"
   ]
  },
  {
   "cell_type": "code",
   "execution_count": null,
   "metadata": {},
   "outputs": [],
   "source": [
    "xx, yy = np.meshgrid(eixo_x, eixo_y)\n",
    "pontos = np.c_[xx.ravel(), yy.ravel()]\n",
    "pontos"
   ]
  },
  {
   "cell_type": "code",
   "execution_count": null,
   "metadata": {},
   "outputs": [],
   "source": [
    "z = modelo.predict(pontos)\n",
    "z = z.reshape(xx.shape)\n",
    "z"
   ]
  },
  {
   "cell_type": "code",
   "execution_count": null,
   "metadata": {},
   "outputs": [],
   "source": [
    "#Decision Boundary\n",
    "\n",
    "import matplotlib.pyplot as plt \n",
    "\n",
    "plt.contourf(xx, yy, z, alpha=0.3)\n",
    "plt.scatter(teste_x.horas_esperadas, teste_x.preco, c=teste_y, s=1)"
   ]
  },
  {
   "cell_type": "markdown",
   "metadata": {},
   "source": [
    "## Introduzindo Suport Vector Machines\n",
    "---"
   ]
  },
  {
   "cell_type": "code",
   "execution_count": 14,
   "metadata": {},
   "outputs": [
    {
     "name": "stdout",
     "output_type": "stream",
     "text": [
      "Treinaremos com 1617 elementos e testaremos com 540 elementos\n",
      "A acuracia foi 58.89%\n"
     ]
    }
   ],
   "source": [
    "from sklearn.model_selection import train_test_split\n",
    "from sklearn.svm import SVC\n",
    "from sklearn.metrics import accuracy_score\n",
    "import numpy as np\n",
    "\n",
    "SEED = 20\n",
    "np.random.seed(SEED)\n",
    "\n",
    "treino_x, teste_x, treino_y, teste_y = train_test_split(x, y, test_size=0.25,\n",
    "                                                        stratify=y)\n",
    "print(\"Treinaremos com %d elementos e testaremos com %d elementos\" % (len(treino_x), len(teste_x)))\n",
    "\n",
    "modelo = SVC(gamma='auto')\n",
    "modelo.fit(treino_x, treino_y)\n",
    "previsoes = modelo.predict(teste_x)\n",
    "\n",
    "acuracia = accuracy_score(teste_y, previsoes) * 100\n",
    "print(\"A acuracia foi %.2f%%\" % acuracia)"
   ]
  },
  {
   "cell_type": "markdown",
   "metadata": {},
   "source": [
    "### Decision Boundary"
   ]
  },
  {
   "cell_type": "code",
   "execution_count": 15,
   "metadata": {},
   "outputs": [
    {
     "data": {
      "text/plain": [
       "<matplotlib.collections.PathCollection at 0x7f73ed220340>"
      ]
     },
     "execution_count": 15,
     "metadata": {},
     "output_type": "execute_result"
    },
    {
     "data": {
      "image/png": "[encoded data removed]",
      "text/plain": [
       "<Figure size 432x288 with 1 Axes>"
      ]
     },
     "metadata": {
      "needs_background": "light"
     },
     "output_type": "display_data"
    }
   ],
   "source": [
    "x_min = teste_x.horas_esperadas.min()\n",
    "x_max = teste_x.horas_esperadas.max()\n",
    "y_min = teste_x.preco.min()\n",
    "y_max = teste_x.preco.max()\n",
    "\n",
    "pixels = 100\n",
    "eixo_x = np.arange(x_min, x_max, (x_max - x_min) / pixels)\n",
    "eixo_y = np.arange(y_min, y_max, (y_max - y_min) / pixels)\n",
    "\n",
    "xx, yy = np.meshgrid(eixo_x, eixo_y)\n",
    "pontos = np.c_[xx.ravel(), yy.ravel()]\n",
    "\n",
    "z = modelo.predict(pontos)\n",
    "z = z.reshape(xx.shape)\n",
    "\n",
    "plt.contourf(xx, yy, z, alpha=0.3)\n",
    "plt.scatter(teste_x.horas_esperadas, teste_x.preco, c=teste_y, s=1)"
   ]
  },
  {
   "cell_type": "code",
   "execution_count": 16,
   "metadata": {},
   "outputs": [
    {
     "name": "stdout",
     "output_type": "stream",
     "text": [
      "Treinaremos com 1617 elementos e testaremos com 540 elementos\n",
      "A acuracia foi 70.37%\n"
     ]
    }
   ],
   "source": [
    "# Padronizar os dados num intervalo de valores específico (Scaler)\n",
    "\n",
    "from sklearn.preprocessing import StandardScaler\n",
    "from sklearn.model_selection import train_test_split\n",
    "from sklearn.svm import SVC\n",
    "from sklearn.metrics import accuracy_score\n",
    "import numpy as np\n",
    "\n",
    "SEED = 20\n",
    "np.random.seed(SEED)\n",
    "\n",
    "raw_treino_x, raw_teste_x, treino_y, teste_y = train_test_split(x, y, test_size=0.25,\n",
    "                                                        stratify=y)\n",
    "print(\"Treinaremos com %d elementos e testaremos com %d elementos\" % (len(treino_x), len(teste_x)))\n",
    "\n",
    "scaler = StandardScaler()\n",
    "scaler.fit(raw_treino_x)\n",
    "treino_x = scaler.transform(raw_treino_x)\n",
    "teste_x = scaler.transform(raw_teste_x)\n",
    "\n",
    "modelo = SVC(gamma='auto')\n",
    "modelo.fit(treino_x, treino_y)\n",
    "previsoes = modelo.predict(teste_x)\n",
    "\n",
    "acuracia = accuracy_score(teste_y, previsoes) * 100\n",
    "print(\"A acuracia foi %.2f%%\" % acuracia)"
   ]
  },
  {
   "cell_type": "code",
   "execution_count": 17,
   "metadata": {},
   "outputs": [
    {
     "data": {
      "text/plain": [
       "<matplotlib.collections.PathCollection at 0x7f73ed1a49a0>"
      ]
     },
     "execution_count": 17,
     "metadata": {},
     "output_type": "execute_result"
    },
    {
     "data": {
      "image/png": "[encoded data removed]",
      "text/plain": [
       "<Figure size 432x288 with 1 Axes>"
      ]
     },
     "metadata": {
      "needs_background": "light"
     },
     "output_type": "display_data"
    }
   ],
   "source": [
    "data_x = teste_x[:,0]\n",
    "data_y = teste_x[:,1]\n",
    "\n",
    "x_min = data_x.min()\n",
    "x_max = data_x.max()\n",
    "y_min = data_y.min()\n",
    "y_max = data_y.max()\n",
    "\n",
    "pixels = 100\n",
    "eixo_x = np.arange(x_min, x_max, (x_max - x_min) / pixels)\n",
    "eixo_y = np.arange(y_min, y_max, (y_max - y_min) / pixels)\n",
    "\n",
    "xx, yy = np.meshgrid(eixo_x, eixo_y)\n",
    "pontos = np.c_[xx.ravel(), yy.ravel()]\n",
    "\n",
    "z = modelo.predict(pontos)\n",
    "z = z.reshape(xx.shape)\n",
    "\n",
    "plt.contourf(xx, yy, z, alpha=0.3)\n",
    "plt.scatter(data_x, data_y, c=teste_y, s=1)"
   ]
  },
  {
   "cell_type": "code",
   "execution_count": null,
   "metadata": {},
   "outputs": [],
   "source": []
  }
 ],
 "metadata": {
  "interpreter": {
   "hash": "8d97a3dbca231d9020d4cca2fd426dfd394f300c675eea7ed921aca4ffa7b18a"
  },
  "kernelspec": {
   "display_name": "Python 3.8.11 64-bit ('base': conda)",
   "language": "python",
   "name": "python3"
  },
  "language_info": {
   "codemirror_mode": {
    "name": "ipython",
    "version": 3
   },
   "file_extension": ".py",
   "mimetype": "text/x-python",
   "name": "python",
   "nbconvert_exporter": "python",
   "pygments_lexer": "ipython3",
   "version": "3.8.11"
  },
  "orig_nbformat": 4
 },
 "nbformat": 4,
 "nbformat_minor": 2
}
